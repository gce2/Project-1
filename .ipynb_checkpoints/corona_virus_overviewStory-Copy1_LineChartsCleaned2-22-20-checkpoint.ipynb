{
 "cells": [
  {
   "cell_type": "code",
   "execution_count": null,
   "metadata": {},
   "outputs": [],
   "source": [
    "get_ipython().system(' pip install PyGithub')\n",
    "get_ipython().run_line_magic('matplotlib', 'notebook')"
   ]
  },
  {
   "cell_type": "code",
   "execution_count": null,
   "metadata": {},
   "outputs": [],
   "source": [
    "import pandas as pd\n",
    "import os\n",
    "import matplotlib.pyplot as plt\n",
    "import numpy as np\n",
    "import datetime\n",
    "from config import git_key"
   ]
  },
  {
   "cell_type": "code",
   "execution_count": null,
   "metadata": {},
   "outputs": [],
   "source": [
    "def corona_df(git_key, branch):\n",
    "    from github import Github\n",
    "    import requests\n",
    "    import io\n",
    "    # First create a Github instance  using username and password\n",
    "    # g = Github(\"user\", \"password\")\n",
    "    # # or using an access token\n",
    "    g = Github(git_key)\n",
    "    repo = g.get_repo(\"CSSEGISandData/COVID-19\")\n",
    "    # URL for GET requests to retrieve coronavirus data\n",
    "    contents = repo.get_contents(branch)\n",
    "    df = pd.read_csv(io.StringIO(contents.decoded_content.decode('utf-8')))\n",
    "    return df"
   ]
  },
  {
   "cell_type": "code",
   "execution_count": null,
   "metadata": {
    "scrolled": true
   },
   "outputs": [],
   "source": [
    "# Pull \"APIs\" using defined formula above\n",
    "confirmed_df = corona_df(git_key,\"/csse_covid_19_data/csse_covid_19_time_series/time_series_19-covid-Confirmed.csv\")\n",
    "deaths_df = corona_df(git_key,\"/csse_covid_19_data/csse_covid_19_time_series/time_series_19-covid-Deaths.csv\")\n",
    "recovered_df = corona_df(git_key,\"/csse_covid_19_data/csse_covid_19_time_series/time_series_19-covid-Recovered.csv\")"
   ]
  },
  {
   "cell_type": "code",
   "execution_count": null,
   "metadata": {
    "scrolled": true
   },
   "outputs": [],
   "source": [
    "confirmed_df.head()"
   ]
  },
  {
   "cell_type": "code",
   "execution_count": null,
   "metadata": {},
   "outputs": [],
   "source": [
    "#Define function for cleaning the data\n",
    "def clean_df(df):\n",
    "    \n",
    "    df = df.fillna(value=0)                                          # Fill NaN with zero values\n",
    "    df = df.drop(columns=[ \"Lat\", \"Long\"])                           # Drop \"Lat\" \"Long\" for raw number data\n",
    "    df = df.groupby(['Country/Region'], as_index=False).agg('sum')   # Create groupby object for sorting by country/region and aggregate\n",
    "    df = df.set_index([\"Country/Region\"])                            # Define new index\n",
    "    df = df.astype(int)                                              # Set all values as integers\n",
    "    df = df.sort_values(by=df.columns[-1], ascending=False)          # Sort by highest value of most recent recorded date\n",
    "\n",
    "    return df"
   ]
  },
  {
   "cell_type": "code",
   "execution_count": null,
   "metadata": {
    "scrolled": true
   },
   "outputs": [],
   "source": [
    "# Initiate new formula for all data sets and assign to variables\n",
    "df_deaths_clean = clean_df(deaths_df)\n",
    "df_confirmed_clean = clean_df(confirmed_df)\n",
    "df_recovered_clean = clean_df(recovered_df)"
   ]
  },
  {
   "cell_type": "code",
   "execution_count": null,
   "metadata": {},
   "outputs": [],
   "source": [
    "# Define function to plot each line on a fig\n",
    "def myplot(ax, x_axis, country, df):\n",
    "    import random\n",
    "    marker = [\"o\",\"1\",\"2\",\"3\",\"4\",\"s\",\"p\",\"h\",\"x\",\"+\", \"d\"]\n",
    "    ax.plot(x_axis, df.iloc[country,:], marker=random.choice(marker), linestyle=\"-\", label=df.index[country])\n",
    "\n",
    "# Define function to plot full plot with top 10 lines in a given df\n",
    "def myplot_full(fig, ax, df, title):\n",
    "    myplot(ax, df.columns, 1, df)\n",
    "    myplot(ax, df.columns, 2, df)\n",
    "    myplot(ax, df.columns, 3, df)\n",
    "    myplot(ax, df.columns, 4, df)\n",
    "    myplot(ax, df.columns, 5, df)\n",
    "    myplot(ax, df.columns, 6, df)\n",
    "    myplot(ax, df.columns, 7, df)\n",
    "    myplot(ax, df.columns, 8, df)\n",
    "    myplot(ax, df.columns, 9, df)\n",
    "    myplot(ax, df.columns, 10, df)\n",
    "\n",
    "    ax.set(xlabel=\"Date (MM/DD/YY)\", ylabel=\"People\", title=title)\n",
    "\n",
    "    plt.xticks(df.columns, df.columns, rotation=90);\n",
    "    ax.grid();\n",
    "    ax.legend();\n",
    "\n",
    "# Define fig saving function\n",
    "def fig_save(fig, file_name):\n",
    "    import os\n",
    "    path = os.path.join(\"images\", file_name)\n",
    "    fig.savefig(path)"
   ]
  },
  {
   "cell_type": "code",
   "execution_count": null,
   "metadata": {
    "scrolled": false
   },
   "outputs": [],
   "source": [
    "# Plot to show Mainland China Data over time\n",
    "fig, ax = plt.subplots(figsize=(10,8))\n",
    "ax.plot(df_deaths_clean.columns, df_confirmed_clean.loc[\"Mainland China\",:],\n",
    "        label=\"Mainland China - Confirmed\", marker=\"o\", color='b');\n",
    "ax.plot(df_deaths_clean.columns, df_deaths_clean.loc[\"Mainland China\",:],\n",
    "        label=\"Mainland China - Deaths\", marker=\"x\", color='r');\n",
    "ax.plot(df_deaths_clean.columns, df_recovered_clean.loc[\"Mainland China\",:],\n",
    "        label=\"Mainland China - Recovered\", marker=\"^\", color='g');\n",
    "plt.xticks(df_deaths_clean.columns, df_deaths_clean.columns, rotation=90);\n",
    "ax.legend();\n",
    "ax.set(xlabel=\"Date (MM/DD/YY)\", ylabel=\"People\", title=\"Coronavirus Data in Mainland China\")\n",
    "ax.grid(b=None, axis=\"y\")\n",
    "plt.tight_layout()\n",
    "fig_save(fig, \"coronavirusdata_mainlandchina\")"
   ]
  },
  {
   "cell_type": "code",
   "execution_count": null,
   "metadata": {
    "scrolled": false
   },
   "outputs": [],
   "source": [
    "fig2, ax2 = plt.subplots(figsize=(10,8))\n",
    "myplot_full(fig2, ax2, df_confirmed_clean, \"Confirmed Cases of Coronavirus Outside of Mainland China (ROW)\")\n",
    "ax2.grid(b=None, axis=\"x\")\n",
    "plt.tight_layout()\n",
    "fig_save(fig2, \"confirmed_ROW\")"
   ]
  },
  {
   "cell_type": "code",
   "execution_count": null,
   "metadata": {
    "scrolled": false
   },
   "outputs": [],
   "source": [
    "fig3, ax3 = plt.subplots(figsize=(10,8))\n",
    "myplot_full(fig3, ax3, df_deaths_clean, \"Confirmed Deaths from Coronavirus Outside of Mainland China (ROW)\")\n",
    "ax3.grid(b=None, axis=\"x\")\n",
    "#ax3.set_yticks(np.arange(0, max(df_deaths_clean.iloc[:,\"Country/Region\"])+1, 1.0))\n",
    "#ax3.set_yticks(np.arange(0, max(df_deaths_clean.columns[-1].loc)+1, 1.0))\n",
    "ax3.set_yticks(np.arange(0, 10+1, 1.0))\n",
    "plt.tight_layout()\n",
    "\n",
    "fig_save(fig3, \"deaths_ROW\")"
   ]
  },
  {
   "cell_type": "code",
   "execution_count": null,
   "metadata": {
    "scrolled": false
   },
   "outputs": [],
   "source": [
    "fig4, ax4 = plt.subplots(figsize=(10,8))\n",
    "myplot_full(fig4, ax4, df_recovered_clean, \"Recovered Cases of Coronavirus Outside of Mainland China (ROW)\")\n",
    "ax4.grid(b=None, axis=\"x\")\n",
    "plt.tight_layout()\n",
    "\n",
    "fig_save(fig4, \"recovered_ROW\")"
   ]
  }
 ],
 "metadata": {
  "kernelspec": {
   "display_name": "Python 3",
   "language": "python",
   "name": "python3"
  },
  "language_info": {
   "codemirror_mode": {
    "name": "ipython",
    "version": 3
   },
   "file_extension": ".py",
   "mimetype": "text/x-python",
   "name": "python",
   "nbconvert_exporter": "python",
   "pygments_lexer": "ipython3",
   "version": "3.7.4"
  }
 },
 "nbformat": 4,
 "nbformat_minor": 2
}
