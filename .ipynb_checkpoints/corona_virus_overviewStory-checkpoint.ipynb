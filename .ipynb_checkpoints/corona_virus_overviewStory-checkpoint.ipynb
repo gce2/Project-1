{
 "cells": [
  {
   "cell_type": "code",
   "execution_count": null,
   "metadata": {},
   "outputs": [],
   "source": [
    "get_ipython().system(' pip install PyGithub')\n",
    "get_ipython().run_line_magic('matplotlib', 'notebook')"
   ]
  },
  {
   "cell_type": "code",
   "execution_count": null,
   "metadata": {},
   "outputs": [],
   "source": [
    "import pandas as pd\n",
    "import os\n",
    "import matplotlib.pyplot as plt\n",
    "import numpy as np\n",
    "import datetime\n",
    "from config import git_key"
   ]
  },
  {
   "cell_type": "code",
   "execution_count": null,
   "metadata": {},
   "outputs": [],
   "source": [
    "def corona_df(git_key, branch):\n",
    "    from github import Github\n",
    "    import requests\n",
    "    import io\n",
    "    # First create a Github instance  using username and password\n",
    "    # g = Github(\"user\", \"password\")\n",
    "    # # or using an access token\n",
    "    g = Github(git_key)\n",
    "    repo = g.get_repo(\"CSSEGISandData/COVID-19\")\n",
    "    # URL for GET requests to retrieve coronavirus data\n",
    "    contents = repo.get_contents(branch)\n",
    "    df = pd.read_csv(io.StringIO(contents.decoded_content.decode('utf-8')))\n",
    "    return df"
   ]
  },
  {
   "cell_type": "code",
   "execution_count": null,
   "metadata": {
    "scrolled": true
   },
   "outputs": [],
   "source": [
    "# Pull \"APIs\" using defined formula above\n",
    "confirmed_df = corona_df(git_key,\"/time_series/time_series_2019-ncov-Confirmed.csv\")\n",
    "deaths_df = corona_df(git_key,\"/time_series/time_series_2019-ncov-Deaths.csv\")\n",
    "recovered_df = corona_df(git_key,\"/time_series/time_series_2019-ncov-Recovered.csv\")"
   ]
  },
  {
   "cell_type": "code",
   "execution_count": null,
   "metadata": {
    "scrolled": true
   },
   "outputs": [],
   "source": [
    "# Create list of dates based upon column headers\n",
    "\n",
    "dates = []                        #Empty list to store dates\n",
    "columns = list(deaths_df)         #List of headers from df\n",
    "del columns[0:4]                  #Delete unnecessary column headers\n",
    "for i in columns:                 #Iterate through newly created list and...\n",
    "    i = i[:7]                          #Shorten date\n",
    "    dates.append(i)                    #Append to dates list\n"
   ]
  },
  {
   "cell_type": "code",
   "execution_count": null,
   "metadata": {},
   "outputs": [],
   "source": [
    "#Define function for cleaning the data\n",
    "def clean_df(df):\n",
    "    df = df.fillna(value=0)                                          # Fill NaN with zero values\n",
    "    df = df.drop(columns=[ \"Lat\", \"Long\"])                           # Drop \"Lat\" \"Long\" for raw number data\n",
    "    df = df.groupby(['Country/Region'], as_index=False).agg('sum')   # Create groupby object for sorting by country/region and aggregate\n",
    "    df = df.set_index([\"Country/Region\"])                            # Define new index\n",
    "    df = df.astype(int)                                              # Set all values as integers\n",
    "    df = df.sort_values(by=df.columns[-1], ascending=False)          # Sort by highest value of most recent recorded date\n",
    "    return df"
   ]
  },
  {
   "cell_type": "code",
   "execution_count": null,
   "metadata": {},
   "outputs": [],
   "source": [
    "# Initiate new formula for all data sets and assign to variables\n",
    "df_deaths_clean = clean_df(deaths_df)\n",
    "df_confirmed_clean = clean_df(confirmed_df)\n",
    "df_recovered_clean = clean_df(recovered_df)"
   ]
  },
  {
   "cell_type": "code",
   "execution_count": null,
   "metadata": {},
   "outputs": [],
   "source": [
    "# Define function to plot each line on a fig\n",
    "def myplot(ax, x_axis, country, df):\n",
    "    import random\n",
    "    marker = [\"o\",\"1\",\"2\",\"3\",\"4\",\"s\",\"p\",\"h\",\"x\",\"+\", \"d\"]\n",
    "    ax.plot(x_axis, df.iloc[country,:], marker=random.choice(marker), linestyle=\"--\", label=df.index[country])\n",
    "\n",
    "# Define function to plot full plot with top 10 lines in a given df\n",
    "def myplot_full(fig, ax, df, title):\n",
    "    myplot(ax, dates, 1, df)\n",
    "    myplot(ax, dates, 2, df)\n",
    "    myplot(ax, dates, 3, df)\n",
    "    myplot(ax, dates, 4, df)\n",
    "    myplot(ax, dates, 5, df)\n",
    "    myplot(ax, dates, 6, df)\n",
    "    myplot(ax, dates, 7, df)\n",
    "    myplot(ax, dates, 8, df)\n",
    "    myplot(ax, dates, 9, df)\n",
    "    myplot(ax, dates, 10, df)\n",
    "\n",
    "    ax.set(xlabel=\"Days (MM/DD/YY)\", ylabel=\"People\", title=title)\n",
    "\n",
    "    plt.xticks(dates, dates, rotation=90);\n",
    "    ax.grid();\n",
    "    ax.legend();\n",
    "\n",
    "# Define fig saving function\n",
    "def fig_save(fig, file_name):\n",
    "    import os\n",
    "    path = os.path.join(\"images\", file_name)\n",
    "    fig.savefig(path)"
   ]
  },
  {
   "cell_type": "code",
   "execution_count": null,
   "metadata": {
    "scrolled": true
   },
   "outputs": [],
   "source": [
    "# Plot to show Mainland China Data over time\n",
    "fig, ax = plt.subplots(figsize=(10,8))\n",
    "ax.plot(dates, df_confirmed_clean.loc[\"Mainland China\",:], label=\"Mainland China - Confirmed\", marker=\"o\");\n",
    "ax.plot(dates, df_deaths_clean.loc[\"Mainland China\",:], label=\"Mainland China - Deaths\", marker=\"+\");\n",
    "ax.plot(dates, df_recovered_clean.loc[\"Mainland China\",:], label=\"Mainland China - Recovered\", marker=\">\");\n",
    "plt.xticks(dates, dates, rotation=90);\n",
    "ax.legend();\n",
    "ax.set(xlabel=\"Days (MM/DD/YY)\", ylabel=\"People\", title=\"Coronavirus Data in Mainland China\")\n",
    "\n",
    "fig_save(fig, \"coronavirusdata_mainlandchina\")"
   ]
  },
  {
   "cell_type": "code",
   "execution_count": null,
   "metadata": {
    "scrolled": true
   },
   "outputs": [],
   "source": [
    "fig2, ax2 = plt.subplots(figsize=(10,8))\n",
    "myplot_full(fig2, ax2, df_confirmed_clean, \"Confirmed Cases of Corona Virus (Excluding Mainland China)\")\n",
    "fig_save(fig2, \"confirmed_othercountries\")"
   ]
  },
  {
   "cell_type": "code",
   "execution_count": null,
   "metadata": {
    "scrolled": true
   },
   "outputs": [],
   "source": [
    "fig3, ax3 = plt.subplots(figsize=(10,8))\n",
    "myplot_full(fig3, ax3, df_deaths_clean, \"Confirmed Deaths from Corona Virus (Excluding Mainland China)\")\n",
    "fig_save(fig3, \"deaths_othercountries\")"
   ]
  },
  {
   "cell_type": "code",
   "execution_count": null,
   "metadata": {
    "scrolled": true
   },
   "outputs": [],
   "source": [
    "fig4, ax4 = plt.subplots(figsize=(10,8))\n",
    "myplot_full(fig4, ax4, df_recovered_clean, \"Recovered Cases of Corona Virus (Excluding Mainland China)\")\n",
    "fig_save(fig4, \"recovered_othercountries\")"
   ]
  }
 ],
 "metadata": {
  "kernelspec": {
   "display_name": "Python 3",
   "language": "python",
   "name": "python3"
  },
  "language_info": {
   "codemirror_mode": {
    "name": "ipython",
    "version": 3
   },
   "file_extension": ".py",
   "mimetype": "text/x-python",
   "name": "python",
   "nbconvert_exporter": "python",
   "pygments_lexer": "ipython3",
   "version": "3.7.4"
  }
 },
 "nbformat": 4,
 "nbformat_minor": 2
}
