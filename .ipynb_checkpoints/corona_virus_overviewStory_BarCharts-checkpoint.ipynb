{
 "cells": [
  {
   "cell_type": "code",
   "execution_count": null,
   "metadata": {},
   "outputs": [],
   "source": [
    "%matplotlib inline"
   ]
  },
  {
   "cell_type": "code",
   "execution_count": null,
   "metadata": {},
   "outputs": [],
   "source": [
    "! pip install PyGithub"
   ]
  },
  {
   "cell_type": "code",
   "execution_count": null,
   "metadata": {},
   "outputs": [],
   "source": [
    "# Import dependencies\n",
    "import pandas as pd\n",
    "import os\n",
    "import matplotlib.pyplot as plt\n",
    "import numpy as np\n",
    "import datetime\n",
    "\n",
    "# Import GitHub 'personal access key' to be able to pull source coronavirus data from John Hopkins' public GitHub repo\n",
    "from config import git_key"
   ]
  },
  {
   "cell_type": "code",
   "execution_count": null,
   "metadata": {},
   "outputs": [],
   "source": [
    "# Create defined function to pull an individual data set from GitHub\n",
    "def corona_df(git_key, branch):\n",
    "    from github import Github\n",
    "    import requests\n",
    "    import io\n",
    "    # First create a Github instance  using username and password\n",
    "    # g = Github(\"user\", \"password\")\n",
    "    # # or using an access token\n",
    "    g = Github(git_key)\n",
    "    \n",
    "    # Specific GitHub repository name/URL for 'get_repo' request:\n",
    "    repo = g.get_repo(\"CSSEGISandData/COVID-19\")\n",
    "    \n",
    "    # URL for GET requests to retrieve coronavirus data:\n",
    "    contents = repo.get_contents(branch)\n",
    "    \n",
    "    # Reading source data (.csv files) from GitHub branch and decode, returning a Pandas dataframe:\n",
    "    df = pd.read_csv(io.StringIO(contents.decoded_content.decode('utf-8')))\n",
    "    return df"
   ]
  },
  {
   "cell_type": "code",
   "execution_count": null,
   "metadata": {},
   "outputs": [],
   "source": [
    "# Pull \"APIs\" using defined formula above\n",
    "confirmed_df = corona_df(git_key,\"/csse_covid_19_data/csse_covid_19_time_series/time_series_19-covid-Confirmed.csv\")\n",
    "deaths_df = corona_df(git_key,\"/csse_covid_19_data/csse_covid_19_time_series/time_series_19-covid-Deaths.csv\")\n",
    "recovered_df = corona_df(git_key,\"/csse_covid_19_data/csse_covid_19_time_series/time_series_19-covid-Recovered.csv\")"
   ]
  },
  {
   "cell_type": "code",
   "execution_count": null,
   "metadata": {},
   "outputs": [],
   "source": [
    "# View Confirmed cases data\n",
    "confirmed_df.head()"
   ]
  },
  {
   "cell_type": "code",
   "execution_count": null,
   "metadata": {},
   "outputs": [],
   "source": [
    "# View Deaths data\n",
    "deaths_df.head()"
   ]
  },
  {
   "cell_type": "code",
   "execution_count": null,
   "metadata": {},
   "outputs": [],
   "source": [
    "# View Recovered cases data\n",
    "recovered_df.head()"
   ]
  },
  {
   "cell_type": "code",
   "execution_count": null,
   "metadata": {},
   "outputs": [],
   "source": [
    "#Define function for cleaning the data\n",
    "def clean_df(df):\n",
    "    \n",
    "    df = df.fillna(value=0)                                          # Fill NaN with zero values\n",
    "    df = df.drop(columns=[ \"Lat\", \"Long\"])                           # Drop \"Lat\" \"Long\" for raw number data\n",
    "    df = df.groupby(['Country/Region'], as_index=False).agg('sum')   # Create groupby object for sorting by country/region and aggregate\n",
    "    df = df.set_index([\"Country/Region\"])                            # Define new index\n",
    "    df = df.astype(int)                                              # Set all values as integers\n",
    "    df = df.sort_values(by=df.columns[-1], ascending=False)          # Sort by highest value of most recent recorded date\n",
    "\n",
    "    return df"
   ]
  },
  {
   "cell_type": "code",
   "execution_count": null,
   "metadata": {},
   "outputs": [],
   "source": [
    "# Initiate new formula for all data sets and assign to variables\n",
    "df_deaths_clean = clean_df(deaths_df)\n",
    "df_confirmed_clean = clean_df(confirmed_df)\n",
    "df_recovered_clean = clean_df(recovered_df)"
   ]
  },
  {
   "cell_type": "code",
   "execution_count": null,
   "metadata": {
    "scrolled": true
   },
   "outputs": [],
   "source": [
    "# View clean, sorted Confirmed cases data\n",
    "df_confirmed_clean\n",
    "\n",
    "# Note: \"Others\" as a 'Country/Region' means a cruise ship. \n",
    "# (JB confirmed in the raw Confirmed cases data: \n",
    "# \"Diamond Princess cruise ship\" appears in that \"Others\" row 'Province/State' field.)"
   ]
  },
  {
   "cell_type": "code",
   "execution_count": null,
   "metadata": {},
   "outputs": [],
   "source": [
    "# View clean, sorted Deaths data\n",
    "df_deaths_clean"
   ]
  },
  {
   "cell_type": "code",
   "execution_count": null,
   "metadata": {},
   "outputs": [],
   "source": [
    "# View clean, sorted Recovered cases data\n",
    "df_recovered_clean"
   ]
  },
  {
   "cell_type": "code",
   "execution_count": null,
   "metadata": {},
   "outputs": [],
   "source": [
    "# Define fig saving function to an 'images' folder in the same directory\n",
    "def fig_save(fig, file_name):\n",
    "    import os\n",
    "    path = os.path.join(\"images\", file_name)\n",
    "    fig.savefig(path)"
   ]
  },
  {
   "cell_type": "code",
   "execution_count": null,
   "metadata": {},
   "outputs": [],
   "source": [
    "# Prepare simple bar chart of Confirmed cases\n",
    "# Set x axis to the list of countries, which is the index in the cleaned Confirmed cases dataframe\n",
    "x_axis = df_confirmed_clean.index.values\n",
    "\n",
    "# Print that list of countries (i.e., the dataframe index) \n",
    "x_axis"
   ]
  },
  {
   "cell_type": "code",
   "execution_count": null,
   "metadata": {},
   "outputs": [],
   "source": [
    "# See the date of the latest/most recent Confirmed cases data (i.e., header from the last column farthest to the right)\n",
    "df_confirmed_clean.columns[-1]"
   ]
  },
  {
   "cell_type": "code",
   "execution_count": null,
   "metadata": {},
   "outputs": [],
   "source": [
    "# Set y axis to that latest/most recent Confirmed cases data\n",
    "y_axis_confirmed = df_confirmed_clean.loc[:, df_confirmed_clean.columns[-1]]\n",
    "\n",
    "# Print that latest/most recent Confirmed cases data\n",
    "y_axis_confirmed"
   ]
  },
  {
   "cell_type": "code",
   "execution_count": null,
   "metadata": {
    "scrolled": false
   },
   "outputs": [],
   "source": [
    "# Plot bar chart of Confirmed cases by country/region\n",
    "fig, ax = plt.subplots()\n",
    "ax.bar(x_axis, y_axis_confirmed, color='r', alpha=1, align=\"center\");   # Set bar chart axes, color, transparency & alignment\n",
    "fig.set_size_inches(10,8);                                    # Set size of figure in inches, horizontal and vertical, respectively\n",
    "ax.set_xticklabels(x_axis, rotation=90);                      # Set labels under horizontal x-axis, rotate words to be vertical\n",
    "ax.set_xlabel(\"Country/Region\");                              # Set horizontal x-label\n",
    "ax.set_ylabel(\"People\");                                      # Set vertical y-label\n",
    "ax.set_title(\"Number of Confirmed Cases by Country/Region\");  # Set title\n",
    "ax.set_ylim(0, y_axis_confirmed.max() + 1000)\n",
    "plt.tight_layout()\n",
    "ax.grid(b=None, axis=\"y\")\n",
    "fig_save(fig, \"bar_confirmed_by_country.png\")                 # Save fig"
   ]
  },
  {
   "cell_type": "code",
   "execution_count": null,
   "metadata": {},
   "outputs": [],
   "source": [
    "# See the date of the latest/most recent Deaths data (i.e., header from the last column farthest to the right)\n",
    "recent = df_deaths_clean.columns[-1]\n",
    "recent"
   ]
  },
  {
   "cell_type": "code",
   "execution_count": null,
   "metadata": {},
   "outputs": [],
   "source": [
    "# Set y axis to that latest/most recent Deaths data\n",
    "y_axis_deaths = []\n",
    "for dead in df_deaths_clean.loc[:, df_deaths_clean.columns[-1]]:\n",
    "    if dead > 0:\n",
    "        y_axis_deaths.append(dead)\n",
    "\n",
    "# Set y axis to only list those countries where there were Deaths occurring (values greater than 0)\n",
    "\n",
    "# Print that latest/most recent Deaths data\n",
    "y_axis_deaths"
   ]
  },
  {
   "cell_type": "code",
   "execution_count": null,
   "metadata": {
    "scrolled": true
   },
   "outputs": [],
   "source": [
    "# Create x_axis variable based upon length of y_axis\n",
    "x_axis_deaths = df_deaths_clean.index[0:len(y_axis_deaths)]\n",
    "x_axis_deaths"
   ]
  },
  {
   "cell_type": "code",
   "execution_count": null,
   "metadata": {
    "scrolled": true
   },
   "outputs": [],
   "source": [
    "# Plot bar chart of Deaths cases by country/region\n",
    "fig2, ax2 = plt.subplots()\n",
    "ax2.bar(x_axis_deaths, y_axis_deaths, color='b', alpha=1, align=\"center\");   # Set bar chart axes, color, transparency & alignment\n",
    "fig2.set_size_inches(10,8);                                    # Set size of figure in inches, horizontal and vertical, respectively\n",
    "ax2.set_xticklabels(x_axis_deaths, rotation=90);                      # Set labels under horizontal x-axis, rotate words to be vertical\n",
    "ax2.set_xlabel(\"Country/Region\");                              # Set horizontal x-label\n",
    "ax2.set_ylabel(\"People\");                                      # Set vertical y-label\n",
    "ax2.set_title(\"Number of Deaths by Country/Region\");           # Set title\n",
    "ax2.set_ylim(0, y_axis_deaths[0] + 100)\n",
    "ax2.grid(b=None, axis=\"y\")\n",
    "plt.tight_layout()\n",
    "\n",
    "fig_save(fig2, \"bar_deaths_by_country.png\")                 # Save fig"
   ]
  },
  {
   "cell_type": "code",
   "execution_count": null,
   "metadata": {
    "scrolled": true
   },
   "outputs": [],
   "source": [
    "df_deaths_row = df_deaths_clean[1:][recent]\n",
    "df_confirmed_row = df_confirmed_clean[1:][recent]\n",
    "df_recovered_row = df_recovered_clean[1:][recent]"
   ]
  },
  {
   "cell_type": "code",
   "execution_count": null,
   "metadata": {},
   "outputs": [],
   "source": [
    "fig3, ax3 = plt.subplots(figsize=(10,10))\n",
    "bar_confirmed = ax3.bar(df_confirmed_row.index, df_confirmed_row, width=0.5)\n",
    "bar_recovered = ax3.bar(df_recovered_row.index, df_recovered_row, width=0.5)\n",
    "ax3.set_xticklabels(df_confirmed_row.index, rotation=90)\n",
    "ax3.legend((bar_confirmed[0], bar_recovered[0]), ('Confirmed', 'Recovered'));\n",
    "ax3.set_yticks(np.arange(0, df_confirmed_row.max(), 50))\n",
    "ax3.set_xlabel(\"Country/Region\");                              # Set horizontal x-label\n",
    "ax3.set_ylabel(\"People\");                                      # Set vertical y-label\n",
    "ax3.set_title(\"Number of Confirmed Cases & Recovered Cases by Country/Region Outside of Mainland China\"); \n",
    "ax3.grid(b=None, axis=\"y\")\n",
    "plt.tight_layout()\n",
    "\n",
    "fig_save(fig3, \"stacked_bar_ROW.png\")"
   ]
  },
  {
   "cell_type": "code",
   "execution_count": null,
   "metadata": {
    "scrolled": false
   },
   "outputs": [],
   "source": [
    "total_dates = len(df_confirmed_clean[:1].columns)\n",
    "num_list = [1,2,3]\n",
    "quartiles = [int(round(total_dates*(q/4))) for q in num_list]\n",
    "quartiles"
   ]
  },
  {
   "cell_type": "code",
   "execution_count": null,
   "metadata": {
    "scrolled": false
   },
   "outputs": [],
   "source": [
    "confirmed_quartiles = list(df_confirmed_clean.iat[0,quartiles[q]] for q in range(0,3))\n",
    "confirmed_quartiles.append(df_confirmed_clean.iat[0, -1])\n",
    "deaths_quartiles = list(df_deaths_clean.iat[0,quartiles[q]] for q in range(0,3))\n",
    "deaths_quartiles.append(df_deaths_clean.iat[0, -1])\n",
    "recovered_quartiles = list(df_recovered_clean.iat[0,quartiles[q]] for q in range(0,3))\n",
    "recovered_quartiles.append(df_recovered_clean.iat[0, -1])"
   ]
  },
  {
   "cell_type": "code",
   "execution_count": null,
   "metadata": {},
   "outputs": [],
   "source": [
    "np.arange(len(confirmed_quartiles))"
   ]
  },
  {
   "cell_type": "code",
   "execution_count": null,
   "metadata": {
    "scrolled": false
   },
   "outputs": [],
   "source": [
    "ind = np.arange(len(confirmed_quartiles))  # the x locations for the groups\n",
    "width = 0.35  # the width of the bars\n",
    "\n",
    "fig4, ax4 = plt.subplots(figsize=(10,10))\n",
    "pt1 = ax4.bar(ind - width, confirmed_quartiles, width=width,\n",
    "                label='Confirmed')\n",
    "pt2 = ax4.bar(ind + width/2, deaths_quartiles, width=width,\n",
    "                label='Deaths')\n",
    "pt3 = ax4.bar(ind - width/3, recovered_quartiles, width=width,\n",
    "                label='Recovered')\n",
    "\n",
    "# Add some text for labels, title and custom x-axis tick labels, etc.\n",
    "ax4.set_ylabel('People')\n",
    "ax4.set_title('Corona Virus in Mainland China Over Time')\n",
    "ax4.set_xticks(ind)\n",
    "ax4.set_xticklabels((df_deaths_clean.columns[quartiles[0]],df_deaths_clean.columns[quartiles[1]],\n",
    "                    df_deaths_clean.columns[quartiles[2]],df_deaths_clean.columns[-1]))\n",
    "ax4.legend()\n",
    "ax4.grid(axis=\"y\")\n",
    "plt.tight_layout()\n",
    "\n",
    "fig_save(fig4, \"layered_bar_MLC.png\")"
   ]
  },
  {
   "cell_type": "code",
   "execution_count": null,
   "metadata": {},
   "outputs": [],
   "source": [
    "fig5, ax5 = plt.subplots(figsize=(15,10))\n",
    "bar_confirmed = ax5.bar(df_confirmed_row.index, df_confirmed_row, width=.75)\n",
    "ax5.set_xticklabels(df_confirmed_row.index, rotation=90)\n",
    "ax5.set_yticks(np.arange(0, df_confirmed_row.max(), 50))\n",
    "ax5.set_xlabel(\"Country/Region\");                              # Set horizontal x-label\n",
    "ax5.set_ylabel(\"People\");                                      # Set vertical y-label\n",
    "ax5.set_title(\"Number of Confirmed Cases by Country/Region Outside of Mainland China (ROW)\"); \n",
    "ax5.grid(b=None, axis=\"y\")\n",
    "plt.tight_layout()\n",
    "\n",
    "fig_save(fig5, \"bar_ROW.png\")"
   ]
  }
 ],
 "metadata": {
  "kernelspec": {
   "display_name": "Python 3",
   "language": "python",
   "name": "python3"
  },
  "language_info": {
   "codemirror_mode": {
    "name": "ipython",
    "version": 3
   },
   "file_extension": ".py",
   "mimetype": "text/x-python",
   "name": "python",
   "nbconvert_exporter": "python",
   "pygments_lexer": "ipython3",
   "version": "3.7.4"
  }
 },
 "nbformat": 4,
 "nbformat_minor": 2
}
