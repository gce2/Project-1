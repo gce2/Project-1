{
 "cells": [
  {
   "cell_type": "code",
   "execution_count": null,
   "metadata": {},
   "outputs": [],
   "source": [
    "! pip install gmaps"
   ]
  },
  {
   "cell_type": "code",
   "execution_count": null,
   "metadata": {},
   "outputs": [],
   "source": [
    "import pandas as pd\n",
    "import os\n",
    "import matplotlib.pyplot as plt\n",
    "import numpy as np\n",
    "import datetime\n",
    "from config import git_key\n",
    "from config import api_key\n",
    "import gmaps\n",
    "# gmaps.configure(api_key=\"api_key\")\n",
    "%matplotlib notebook"
   ]
  },
  {
   "cell_type": "code",
   "execution_count": null,
   "metadata": {},
   "outputs": [],
   "source": [
    "gmaps.configure(api_key=\"YOUR GOOGLE MAPS API_KEY HERE\")"
   ]
  },
  {
   "cell_type": "code",
   "execution_count": null,
   "metadata": {},
   "outputs": [],
   "source": [
    "def corona_df(git_key, branch):\n",
    "    from github import Github\n",
    "    import requests\n",
    "    import io\n",
    "    # First create a Github instance  using username and password\n",
    "    # g = Github(\"user\", \"password\")\n",
    "    # # or using an access token\n",
    "    g = Github(git_key)\n",
    "    repo = g.get_repo(\"CSSEGISandData/COVID-19\")\n",
    "    # URL for GET requests to retrieve coronavirus data\n",
    "    contents = repo.get_contents(branch)\n",
    "    df = pd.read_csv(io.StringIO(contents.decoded_content.decode('utf-8')))\n",
    "    return df"
   ]
  },
  {
   "cell_type": "code",
   "execution_count": null,
   "metadata": {},
   "outputs": [],
   "source": [
    "# Pull \"APIs\" using defined formula above\n",
    "confirmed_df = corona_df(git_key,\"/csse_covid_19_data/csse_covid_19_time_series/time_series_19-covid-Confirmed.csv\")\n",
    "deaths_df = corona_df(git_key,\"/csse_covid_19_data/csse_covid_19_time_series/time_series_19-covid-Deaths.csv\")\n",
    "recovered_df = corona_df(git_key,\"/csse_covid_19_data/csse_covid_19_time_series/time_series_19-covid-Recovered.csv\")"
   ]
  },
  {
   "cell_type": "code",
   "execution_count": null,
   "metadata": {
    "scrolled": true
   },
   "outputs": [],
   "source": [
    "confirmed_df.head()"
   ]
  },
  {
   "cell_type": "code",
   "execution_count": null,
   "metadata": {},
   "outputs": [],
   "source": [
    "def clean_df(df):\n",
    "    \n",
    "    df = df.fillna(value=0)                                          # Fill NaN with zero values\n",
    "    df = df.sort_values(by=df.columns[-1], ascending=False)          # Sort by highest value of most recent recorded date\n",
    "\n",
    "    return df"
   ]
  },
  {
   "cell_type": "code",
   "execution_count": null,
   "metadata": {
    "scrolled": true
   },
   "outputs": [],
   "source": [
    "df_confirmed_clean = clean_df(confirmed_df)\n",
    "df_confirmed_clean"
   ]
  },
  {
   "cell_type": "code",
   "execution_count": null,
   "metadata": {},
   "outputs": [],
   "source": [
    "locations = df_confirmed_clean[[\"Lat\", \"Long\"]]"
   ]
  },
  {
   "cell_type": "code",
   "execution_count": null,
   "metadata": {},
   "outputs": [],
   "source": [
    "recent = df_confirmed_clean.iloc[:][df_confirmed_clean.columns[-1]]"
   ]
  },
  {
   "cell_type": "code",
   "execution_count": null,
   "metadata": {},
   "outputs": [],
   "source": [
    "# Define fig saving function\n",
    "def fig_save(fig, file_name):\n",
    "    import os\n",
    "    path = os.path.join(\"images\", file_name)\n",
    "    fig.savefig(path)"
   ]
  },
  {
   "cell_type": "code",
   "execution_count": null,
   "metadata": {
    "scrolled": false
   },
   "outputs": [],
   "source": [
    "fig = gmaps.figure()\n",
    "\n",
    "heat_layer = gmaps.heatmap_layer(locations, weights=recent,\n",
    "                                dissipating=False, max_intensity=10,\n",
    "                                point_radius=1)\n",
    "fig.add_layer(heat_layer)\n",
    "\n",
    "fig"
   ]
  }
 ],
 "metadata": {
  "kernelspec": {
   "display_name": "Python 3",
   "language": "python",
   "name": "python3"
  },
  "language_info": {
   "codemirror_mode": {
    "name": "ipython",
    "version": 3
   },
   "file_extension": ".py",
   "mimetype": "text/x-python",
   "name": "python",
   "nbconvert_exporter": "python",
   "pygments_lexer": "ipython3",
   "version": "3.7.4"
  }
 },
 "nbformat": 4,
 "nbformat_minor": 2
}
