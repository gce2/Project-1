{
 "cells": [
  {
   "cell_type": "code",
   "execution_count": null,
   "metadata": {},
   "outputs": [],
   "source": [
    "import pandas as pd\n",
    "import os\n",
    "import matplotlib.pyplot as plt\n",
    "import numpy as np\n",
    "import datetime\n",
    "from config import git_key\n",
    "import gmaps\n",
    "import requests\n",
    "%matplotlib notebook"
   ]
  },
  {
   "cell_type": "code",
   "execution_count": null,
   "metadata": {},
   "outputs": [],
   "source": [
    "gkey=\"ENTER YOUR GOOGLE API_KEY HERE\""
   ]
  },
  {
   "cell_type": "code",
   "execution_count": null,
   "metadata": {
    "scrolled": true
   },
   "outputs": [],
   "source": [
    "gmaps.configure(api_key=gkey)"
   ]
  },
  {
   "cell_type": "code",
   "execution_count": null,
   "metadata": {},
   "outputs": [],
   "source": [
    "def corona_df(git_key, branch):\n",
    "    from github import Github\n",
    "    import requests\n",
    "    import io\n",
    "    # First create a Github instance  using username and password\n",
    "    # g = Github(\"user\", \"password\")\n",
    "    # # or using an access token\n",
    "    g = Github(git_key)\n",
    "    repo = g.get_repo(\"CSSEGISandData/COVID-19\")\n",
    "    # URL for GET requests to retrieve coronavirus data\n",
    "    contents = repo.get_contents(branch)\n",
    "    df = pd.read_csv(io.StringIO(contents.decoded_content.decode('utf-8')))\n",
    "    return df"
   ]
  },
  {
   "cell_type": "code",
   "execution_count": null,
   "metadata": {},
   "outputs": [],
   "source": [
    "# Pull \"APIs\" using defined formula above\n",
    "confirmed_df = corona_df(git_key,\"/csse_covid_19_data/csse_covid_19_time_series/time_series_19-covid-Confirmed.csv\")\n",
    "deaths_df = corona_df(git_key,\"/csse_covid_19_data/csse_covid_19_time_series/time_series_19-covid-Deaths.csv\")\n",
    "recovered_df = corona_df(git_key,\"/csse_covid_19_data/csse_covid_19_time_series/time_series_19-covid-Recovered.csv\")"
   ]
  },
  {
   "cell_type": "code",
   "execution_count": null,
   "metadata": {
    "scrolled": true
   },
   "outputs": [],
   "source": [
    "recovered_df.head()"
   ]
  },
  {
   "cell_type": "code",
   "execution_count": null,
   "metadata": {},
   "outputs": [],
   "source": [
    "#Define dataframe cleaning function\n",
    "def clean_df(df):\n",
    "    \n",
    "    df = df.fillna(value=0)                                          # Fill NaN with zero values\n",
    "    df = df.sort_values(by=df.columns[-1], ascending=False)          # Sort by highest value of most recent recorded date\n",
    "\n",
    "    return df"
   ]
  },
  {
   "cell_type": "code",
   "execution_count": null,
   "metadata": {
    "scrolled": true
   },
   "outputs": [],
   "source": [
    "#Assign cleaned dataframes to variables\n",
    "df_confirmed_clean = clean_df(confirmed_df)\n",
    "df_deaths_clean = clean_df(deaths_df)\n",
    "df_recovered_clean = clean_df(deaths_df)\n",
    "df_recovered_clean"
   ]
  },
  {
   "cell_type": "code",
   "execution_count": null,
   "metadata": {},
   "outputs": [],
   "source": [
    "#Locations are tuples of lat and long\n",
    "locations = df_recovered_clean[[\"Lat\", \"Long\"]]"
   ]
  },
  {
   "cell_type": "code",
   "execution_count": null,
   "metadata": {},
   "outputs": [],
   "source": [
    "#define variable for references most recent data\n",
    "recent = df_recovered_clean.iloc[:][df_recovered_clean.columns[-1]]"
   ]
  },
  {
   "cell_type": "code",
   "execution_count": null,
   "metadata": {},
   "outputs": [],
   "source": [
    "# Define fig saving function\n",
    "def fig_save(fig, file_name):\n",
    "    import os\n",
    "    path = os.path.join(\"images\", file_name)\n",
    "    fig.savefig(path)"
   ]
  },
  {
   "cell_type": "code",
   "execution_count": null,
   "metadata": {
    "scrolled": true
   },
   "outputs": [],
   "source": [
    "#Form heat map using lat and long from dataframe\n",
    "fig = gmaps.figure()\n",
    "\n",
    "heat_layer = gmaps.heatmap_layer(locations, weights=recent,\n",
    "                                dissipating=False, max_intensity=10,\n",
    "                                point_radius=1)\n",
    "fig.add_layer(heat_layer)\n",
    "\n",
    "fig"
   ]
  },
  {
   "cell_type": "code",
   "execution_count": null,
   "metadata": {},
   "outputs": [],
   "source": [
    "def get_hospitals(location, keyword=\"Hospital\", radius=250000, ttype=\"hospital\", key=gkey):\n",
    "    '''\n",
    "    This function returns the first result of the search using the given parameters\n",
    "    \n",
    "    :param location: String lat lon of place \"42.444, 54.234\"\n",
    "    :param keyword: Type of locations you are looking for https://developers.google.com/places/web-service/supported_types#table2\n",
    "    :param radius: int radius of area around location to search for\n",
    "    :param ttype: Look here -> https://developers.google.com/places/web-service/supported_types#table2\n",
    "    :param key: You google api key w Places API enabled\n",
    "    :return: name and location of first result\n",
    "    '''\n",
    "    params = {\n",
    "    \"location\": location,\n",
    "    \"keyword\": keyword,\n",
    "    \"radius\": radius,\n",
    "    \"type\": ttype,\n",
    "    \"key\": gkey\n",
    "    }\n",
    "\n",
    "    \n",
    "    # base url\n",
    "    base_url = \"https://maps.googleapis.com/maps/api/place/nearbysearch/json\"\n",
    "\n",
    "    # run a request using our params dictionary\n",
    "    response = requests.get(base_url, params=params)\n",
    "    places_data = response.json()\n",
    "    \n",
    "    try:\n",
    "        name= [places_data[\"results\"][hospital][\"name\"] for hospital in range(0,9)]   \n",
    "        \n",
    "        lat = [places_data[\"results\"][hospital][\"geometry\"][\"location\"][\"lat\"] for hospital in range(0,9)]\n",
    "        long = [places_data[\"results\"][hospital][\"geometry\"][\"location\"][\"lng\"] for hospital in range(0,9)]\n",
    "        \n",
    "        return name, lat, long\n",
    "    except:\n",
    "        print(\"Maximum Hospitals Found\")\n",
    "#     return places_data"
   ]
  },
  {
   "cell_type": "code",
   "execution_count": null,
   "metadata": {
    "scrolled": false
   },
   "outputs": [],
   "source": [
    "# Pull lat and longs to plug into above formula\n",
    "lat =[df_recovered_clean.loc[x][\"Lat\"] for x in range(0, len(df_recovered_clean))]\n",
    "long = [df_recovered_clean.loc[x][\"Long\"] for x in range(0, len(df_recovered_clean))]"
   ]
  },
  {
   "cell_type": "code",
   "execution_count": null,
   "metadata": {
    "scrolled": true
   },
   "outputs": [],
   "source": [
    "#plug lat and longs into formula\n",
    "hospitals_list = [get_hospitals(f\"{lat[x]},{long[x]}\") for x in range(0, len(df_recovered_clean))]"
   ]
  },
  {
   "cell_type": "code",
   "execution_count": null,
   "metadata": {},
   "outputs": [],
   "source": [
    "#Eliminate \"None\" values\n",
    "hosp = [] \n",
    "for val in hospitals_list: \n",
    "    if val != None :\n",
    "        hosp.append(val) \n",
    "        \n",
    "hosp"
   ]
  },
  {
   "cell_type": "code",
   "execution_count": null,
   "metadata": {
    "scrolled": false
   },
   "outputs": [],
   "source": [
    "#Assign variables to type of information pulled (names, latitude, longitude)\n",
    "hospital_names = [hosp[x][0] for x in range(0, len(hosp))]\n",
    "hospital_lat = [hosp[x][1] for x in range(0, len(hosp))]\n",
    "hospital_long = [hosp[x][2] for x in range(0, len(hosp))]"
   ]
  },
  {
   "cell_type": "code",
   "execution_count": null,
   "metadata": {
    "scrolled": true
   },
   "outputs": [],
   "source": [
    "#Flatten Lists\n",
    "flat_list_name = []\n",
    "for sublist in hospital_names:\n",
    "    for item in sublist:\n",
    "        flat_list_name.append(item)\n",
    "flat_list_lat = []\n",
    "for sublist in hospital_lat:\n",
    "    for item in sublist:\n",
    "        flat_list_lat.append(item)\n",
    "flat_list_long = []\n",
    "for sublist in hospital_long:\n",
    "    for item in sublist:\n",
    "        flat_list_long.append(item)"
   ]
  },
  {
   "cell_type": "code",
   "execution_count": null,
   "metadata": {},
   "outputs": [],
   "source": [
    "#Create dataframe of newly acquires lists\n",
    "hospitals_df = pd.DataFrame([])\n",
    "hospitals_df[\"Hospitals\"] = flat_list_name\n",
    "hospitals_df[\"Lat\"] = flat_list_lat\n",
    "hospitals_df[\"Long\"] = flat_list_long\n",
    "#Drop Duplicates\n",
    "hospitals_df = hospitals_df.drop_duplicates(\"Hospitals\")\n",
    "hospitals_df"
   ]
  },
  {
   "cell_type": "code",
   "execution_count": null,
   "metadata": {},
   "outputs": [],
   "source": [
    "#Save new lat and longs for hospitals in variable\n",
    "locations_hosp = hospitals_df[[\"Lat\", \"Long\"]]"
   ]
  },
  {
   "cell_type": "code",
   "execution_count": null,
   "metadata": {
    "scrolled": false
   },
   "outputs": [],
   "source": [
    "#Form new figure with hospital markers and previously made heat_layer\n",
    "\n",
    "fig2 = gmaps.figure()\n",
    "# Assign the marker layer to a variable\n",
    "markers = gmaps.marker_layer(locations_hosp)\n",
    "# Add the layer to the map\n",
    "fig2.add_layer(markers)\n",
    "fig2.add_layer(heat_layer)\n",
    "fig2"
   ]
  },
  {
   "cell_type": "code",
   "execution_count": null,
   "metadata": {},
   "outputs": [],
   "source": []
  }
 ],
 "metadata": {
  "kernelspec": {
   "display_name": "Python 3",
   "language": "python",
   "name": "python3"
  },
  "language_info": {
   "codemirror_mode": {
    "name": "ipython",
    "version": 3
   },
   "file_extension": ".py",
   "mimetype": "text/x-python",
   "name": "python",
   "nbconvert_exporter": "python",
   "pygments_lexer": "ipython3",
   "version": "3.7.4"
  }
 },
 "nbformat": 4,
 "nbformat_minor": 2
}
