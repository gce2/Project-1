{
 "cells": [
  {
   "cell_type": "code",
   "execution_count": null,
   "metadata": {
    "scrolled": false
   },
   "outputs": [],
   "source": [
    "get_ipython().system(' pip install PyGithub')\n",
    "get_ipython().run_line_magic('matplotlib', 'notebook')"
   ]
  },
  {
   "cell_type": "code",
   "execution_count": null,
   "metadata": {},
   "outputs": [],
   "source": [
    "import pandas as pd\n",
    "import os\n",
    "import matplotlib.pyplot as plt\n",
    "import numpy as np\n",
    "import datetime\n",
    "from config import git_key"
   ]
  },
  {
   "cell_type": "code",
   "execution_count": null,
   "metadata": {},
   "outputs": [],
   "source": [
    "def corona_df(git_key, branch):\n",
    "    from github import Github\n",
    "    import requests\n",
    "    import io\n",
    "    # First create a Github instance  using username and password\n",
    "    # g = Github(\"user\", \"password\")\n",
    "    # # or using an access token\n",
    "    g = Github(git_key)\n",
    "    repo = g.get_repo(\"CSSEGISandData/COVID-19\")\n",
    "    # URL for GET requests to retrieve coronavirus data\n",
    "    contents = repo.get_contents(branch)\n",
    "    df = pd.read_csv(io.StringIO(contents.decoded_content.decode('utf-8')))\n",
    "    return df"
   ]
  },
  {
   "cell_type": "code",
   "execution_count": null,
   "metadata": {
    "scrolled": true
   },
   "outputs": [],
   "source": [
    "# Pull \"APIs\" using defined formula above\n",
    "confirmed_df = corona_df(git_key,\"/csse_covid_19_data/csse_covid_19_time_series/time_series_19-covid-Confirmed.csv\")\n",
    "deaths_df = corona_df(git_key,\"/csse_covid_19_data/csse_covid_19_time_series/time_series_19-covid-Deaths.csv\")\n",
    "recovered_df = corona_df(git_key,\"/csse_covid_19_data/csse_covid_19_time_series/time_series_19-covid-Recovered.csv\")"
   ]
  },
  {
   "cell_type": "code",
   "execution_count": null,
   "metadata": {
    "scrolled": false
   },
   "outputs": [],
   "source": [
    "confirmed_df.head()"
   ]
  },
  {
   "cell_type": "code",
   "execution_count": null,
   "metadata": {},
   "outputs": [],
   "source": [
    "#Define function for cleaning the data\n",
    "def clean_df(df):\n",
    "    \n",
    "    df = df.fillna(value=0)                                          # Fill NaN with zero values\n",
    "    df = df.drop(columns=[ \"Lat\", \"Long\"])                           # Drop \"Lat\" \"Long\" for raw number data\n",
    "    df = df.groupby(['Country/Region'], as_index=False).agg('sum')   # Create groupby object for sorting by country/region and aggregate\n",
    "    df = df.set_index([\"Country/Region\"])                            # Define new index\n",
    "    df = df.astype(int)                                              # Set all values as integers\n",
    "    df = df.sort_values(by=df.columns[-1], ascending=False)          # Sort by highest value of most recent recorded date\n",
    "\n",
    "    return df"
   ]
  },
  {
   "cell_type": "code",
   "execution_count": null,
   "metadata": {
    "scrolled": true
   },
   "outputs": [],
   "source": [
    "# Initiate new formula for all data sets and assign to variables\n",
    "df_deaths_clean = clean_df(deaths_df)\n",
    "df_confirmed_clean = clean_df(confirmed_df)\n",
    "df_recovered_clean = clean_df(recovered_df)"
   ]
  },
  {
   "cell_type": "code",
   "execution_count": null,
   "metadata": {},
   "outputs": [],
   "source": [
    "# Aggregate data for ROW (rest of world)\n",
    "row_confirmed = list(df_confirmed_clean[1:-1].agg(\"sum\"))\n",
    "row_deaths = list(df_deaths_clean[1:-1].agg(\"sum\"))\n",
    "row_recovered = list(df_recovered_clean[1:-1].agg(\"sum\"))\n",
    "\n",
    "# create dates variable:\n",
    "dates = df_deaths_clean.columns"
   ]
  },
  {
   "cell_type": "code",
   "execution_count": null,
   "metadata": {},
   "outputs": [],
   "source": [
    "# Define function to plot each line on a fig\n",
    "def myplot(ax, x_axis, country, df):\n",
    "    import random\n",
    "    marker = [\"o\",\"1\",\"2\",\"3\",\"4\",\"s\",\"p\",\"h\",\"x\",\"+\", \"d\"]\n",
    "    ax.plot(x_axis, df.iloc[country,:], marker=random.choice(marker), linestyle=\"--\", label=df.index[country])\n",
    "\n",
    "# Define function to plot full plot with top 10 lines in a given df\n",
    "def myplot_full(fig, ax, df, title):\n",
    "    myplot(ax, df.columns, 1, df)\n",
    "    myplot(ax, df.columns, 2, df)\n",
    "    myplot(ax, df.columns, 3, df)\n",
    "    myplot(ax, df.columns, 4, df)\n",
    "    myplot(ax, df.columns, 5, df)\n",
    "    myplot(ax, df.columns, 6, df)\n",
    "    myplot(ax, df.columns, 7, df)\n",
    "    myplot(ax, df.columns, 8, df)\n",
    "    myplot(ax, df.columns, 9, df)\n",
    "    myplot(ax, df.columns, 10, df)\n",
    "\n",
    "    ax.set(xlabel=\"Days (MM/DD/YY)\", ylabel=\"People\", title=title)\n",
    "\n",
    "    plt.xticks(df.columns, df.columns, rotation=90);\n",
    "    ax.grid();\n",
    "    ax.legend();\n",
    "\n",
    "# Define fig saving function\n",
    "def fig_save(fig, file_name):\n",
    "    import os\n",
    "    path = os.path.join(\"images\", file_name)\n",
    "    fig.savefig(path)"
   ]
  },
  {
   "cell_type": "code",
   "execution_count": null,
   "metadata": {
    "scrolled": false
   },
   "outputs": [],
   "source": [
    "# MLC Confirmed vs. ROW Confirmed\n",
    "fig, ax = plt.subplots(figsize=(10,5))\n",
    "ax.plot(dates, df_confirmed_clean.loc[\"Mainland China\",:], label=\"Mainland China\", marker=\"o\", color='b')\n",
    "ax.plot(dates, row_confirmed, label=\"Rest of World\", marker=\"x\", color='b')\n",
    "ax.set_xticklabels(dates, rotation=90);\n",
    "ax.set(xlabel=\"Dates\", ylabel=\"People\", title=\"Confirmed Cases of nCoV in Mainland China Vs. Rest of World\")\n",
    "ax.legend();\n",
    "ax.grid(axis=\"y\");\n",
    "\n",
    "fig_save(fig, \"confirmed_MLCvsROW\")"
   ]
  },
  {
   "cell_type": "code",
   "execution_count": null,
   "metadata": {
    "scrolled": false
   },
   "outputs": [],
   "source": [
    "# ROW Confirmed vs. Deaths\n",
    "fig2, ax2 = plt.subplots(figsize=(10,5))\n",
    "ax2.plot(dates, row_confirmed, label = \"Confirmed\", marker=\"o\", color='b')\n",
    "ax2.plot(dates, row_deaths, label = \"Deaths\", marker=\"x\", color='r')\n",
    "ax2.set_xticklabels(dates, rotation=90);\n",
    "ax2.set(xlabel=\"Dates\", ylabel=\"People\", title=\"Confirmed Cases Vs. Deaths in Rest of World\")\n",
    "ax2.legend();\n",
    "ax2.grid(axis=\"y\");\n",
    "\n",
    "fig_save(fig2, \"ROW_confirmed-vs-deaths\")"
   ]
  },
  {
   "cell_type": "code",
   "execution_count": null,
   "metadata": {
    "scrolled": false
   },
   "outputs": [],
   "source": [
    "#MLC Confirmed vs. Deaths\n",
    "fig3, ax3 = plt.subplots(figsize=(10,5))\n",
    "ax3.plot(dates, df_confirmed_clean.loc[\"Mainland China\",:], label = \"Confirmed\", marker=\"o\", color='b')\n",
    "ax3.plot(dates, df_deaths_clean.loc[\"Mainland China\",:], label = \"Deaths\", marker=\"x\", color='r')\n",
    "ax3.set_xticklabels(dates, rotation=90);\n",
    "ax3.set(xlabel=\"Dates\", ylabel=\"People\", title=\"Confirmed Cases Vs. Deaths in Mainland China\")\n",
    "ax3.legend();\n",
    "ax3.grid(axis=\"y\");\n",
    "\n",
    "fig_save(fig3, \"MLC_confirmed-vs-deaths\")"
   ]
  },
  {
   "cell_type": "code",
   "execution_count": null,
   "metadata": {},
   "outputs": [],
   "source": [
    "# ROW Confirmed vs. Recovered\n",
    "fig4, ax4 = plt.subplots(figsize=(10,5))\n",
    "ax4.plot(dates, row_confirmed, label = \"Confirmed\", marker=\"o\", color='b')\n",
    "ax4.plot(dates, row_recovered, label = \"Recovered\", marker=\"^\", color='g')\n",
    "ax4.set_xticklabels(dates, rotation=90);\n",
    "ax4.set(xlabel=\"Dates\", ylabel=\"People\", title=\"Confirmed Cases Vs. Recovered in Rest of World\")\n",
    "ax4.legend();\n",
    "ax4.grid(axis=\"y\");\n",
    "\n",
    "fig_save(fig4, \"ROW_confirmed-vs-recovered\")"
   ]
  },
  {
   "cell_type": "code",
   "execution_count": null,
   "metadata": {},
   "outputs": [],
   "source": [
    "#MLC Confirmed vs. Recovered\n",
    "fig5, ax5 = plt.subplots(figsize=(10,5))\n",
    "ax5.plot(dates, df_confirmed_clean.loc[\"Mainland China\",:], label = \"Confirmed\", marker=\"o\", color='b')\n",
    "ax5.plot(dates, df_recovered_clean.loc[\"Mainland China\",:], label = \"Recovered\", marker=\"^\", color='g')\n",
    "ax5.set_xticklabels(dates, rotation=90);\n",
    "ax5.set(xlabel=\"Dates\", ylabel=\"People\", title=\"Confirmed Cases Vs. Recovered in Mainland China\")\n",
    "ax5.legend();\n",
    "ax5.grid(axis=\"y\");\n",
    "\n",
    "fig_save(fig5, \"MLC_confirmed-vs-recovered\")"
   ]
  }
 ],
 "metadata": {
  "kernelspec": {
   "display_name": "Python 3",
   "language": "python",
   "name": "python3"
  },
  "language_info": {
   "codemirror_mode": {
    "name": "ipython",
    "version": 3
   },
   "file_extension": ".py",
   "mimetype": "text/x-python",
   "name": "python",
   "nbconvert_exporter": "python",
   "pygments_lexer": "ipython3",
   "version": "3.7.4"
  }
 },
 "nbformat": 4,
 "nbformat_minor": 2
}
